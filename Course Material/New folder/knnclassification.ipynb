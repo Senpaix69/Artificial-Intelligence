{
 "cells": [
  {
   "cell_type": "code",
   "execution_count": 91,
   "metadata": {},
   "outputs": [],
   "source": [
    "import numpy as np\n",
    "import math\n",
    "import operator\n",
    "\n",
    "with open('trainX.txt') as trainF:\n",
    "    trnPics = trainF.readlines()\n",
    "\n",
    "with open('trainY.txt') as trainR:\n",
    "    trnRs = trainR.readlines()\n",
    "\n",
    "with open('testX.txt') as tstP:\n",
    "    tstPs = tstP.readlines()\n",
    "\n",
    "with open('testY.txt') as tstR:\n",
    "    tstRs = tstR.readlines()\n",
    "\n",
    "xt = [i.split('\\n', 1)[0] for i in trnPics]\n",
    "xr =  [j.split('\\n', 1)[0] for j in trnRs]\n",
    "\n",
    "\n",
    "xrr = np.asarray(xr)\n",
    "trainResults = xrr.astype(int)\n",
    "\n",
    "yt = [k.split('\\n', 1)[0] for k in tstPs]\n",
    "yr =  [l.split('\\n', 1)[0] for l in tstRs]\n",
    "\n",
    "yrr = np.asarray(yr)\n",
    "testResults = yrr.astype(int)\n"
   ]
  },
  {
   "cell_type": "code",
   "execution_count": 83,
   "metadata": {},
   "outputs": [],
   "source": [
    "#------------Distance Calculation of 2 Example Points------------------\n",
    "\n",
    "def distnc(x1, x2):\n",
    "    dist = 0\n",
    "    lng = len(x1)\n",
    "    #print(type(x1))\n",
    "    #x3 = np.array(x1)\n",
    "    #x4 = np.array(x2)\n",
    "    #for k in range(256):\n",
    "    #    print(x1[k])\n",
    "    for i in range(lng):\n",
    "        dist += pow((x1[i] - x2[i]), 2)\n",
    "    return math.sqrt(dist)\n",
    "\n",
    "#------------------------------------------------------------------------\n",
    "\n",
    "#---------------Distance Calculation of Test Point from all Training Data-----\n",
    "\n",
    "def calDist(trnData, tstPnt):\n",
    "    dists = []\n",
    "    for i in range(len(trnData)):\n",
    "        tr1 = trnData[i].split(' ')\n",
    "        tr2 = np.asarray(tr1)\n",
    "        tr3 = tr2[1:257].astype(int)\n",
    "        dists.append((i,distnc(tr3, tstPnt)))\n",
    "        #dists.append(distnc(tr3, tstPnt))\n",
    "    return dists\n",
    "\n",
    "#--------------------------------------------------------------------------------\n",
    "\n",
    "#----------------Sorting distances to find all neighbours---------------\n",
    "\n",
    "def getNeighbours(trnData, tstPnt):\n",
    "    Distances1 = calDist(trnData, tstPnt)\n",
    "   \n",
    "#    s = len(trnData)\n",
    "#    for i in range (s):\n",
    "#        for j in range (s-2):\n",
    "#            if j%2 != 0 and Distances1[j] > Distances1[j+2]:\n",
    "#                tmp1 = Distances1[j-1]\n",
    "#                tmp2 = Distances1[j]\n",
    "#                Distances1[j-1] = Distances1[j+1]\n",
    "#                Distances1[j] = Distances1[j+2]\n",
    "                \n",
    "#                Distances1[j+1] = tmp1\n",
    "#                Distances1[j+2] = tmp2\n",
    "\n",
    "    Distances1.sort(key=operator.itemgetter(1))\n",
    "    #print(Distances1)\n",
    "    return Distances1\n",
    "                \n",
    "#------------------------------------------------------------------------------\n",
    "#--------------------Predicting Result-----------------------------------------\n",
    "def getKneighbours(trnData, trnRslts, tstPnt, k):\n",
    "    nbrs = getNeighbours(trnData, tstPnt)\n",
    "    classCount = [0,0]\n",
    "    \n",
    "    for i in range(k):\n",
    "        \n",
    "        if j%2 == 0 and trnRslts[nbrs[i][0]] == 2:\n",
    "            classCount[0] +=1\n",
    "        elif j%2 == 0 and  trnRslts[nbrs[i][0]] == 4:\n",
    "            classCount[1] +=1\n",
    "              \n",
    "    \n",
    "    if classCount[0] != classCount[1]:\n",
    "        if classCount[0] > classCount[1]:\n",
    "            return (2)\n",
    "        else:\n",
    "            return 4\n",
    "        \n",
    "    else:\n",
    "        for i in range(k):\n",
    "            j = i*2\n",
    "            if j%2 == 0 and trnRslts[nbrs[j]] == trnRslts[nbrs[j+2]]:\n",
    "                return trnRslts[nbrs[j]]\n",
    "            \n",
    "        return trnRslts[nbrs[0]]\n",
    "    \n",
    "#----------------------------------------------------------------------------\n",
    "    \n",
    "def getAccuracy(predicts, actuals):\n",
    "    correct = 0\n",
    "    incorrect = 0\n",
    "    lng = len(predicts)\n",
    "    for i in range(lng):\n",
    "        if predicts[i] == actuals[i]:\n",
    "            correct += 1\n",
    "        \n",
    "        else:\n",
    "            incorrect += 1\n",
    "            \n",
    "    return (correct/lng)*100\n",
    "\n",
    "#--------------------------------------------------------------------"
   ]
  },
  {
   "cell_type": "code",
   "execution_count": 84,
   "metadata": {},
   "outputs": [
    {
     "name": "stdout",
     "output_type": "stream",
     "text": [
      "[2, 2, 2, 2, 2, 2, 2, 2, 2, 2, 2, 2, 2, 2, 2, 2, 2, 2, 2, 2, 2, 2, 2, 2, 2, 2, 2, 2, 2, 2, 2, 2, 2, 2, 2, 2, 2, 2, 2, 2, 2, 2, 2, 2, 2, 2, 2, 2, 2, 2, 2, 2, 2, 2, 2, 2, 2, 2, 2, 2, 2, 2, 2, 2, 2, 2, 2, 2, 2, 2, 2, 2, 2, 2, 2, 2, 2, 2, 2, 2, 2, 2, 2, 2, 2, 2, 2, 2, 2, 2, 2, 2, 2, 2, 2, 2, 2, 2, 2, 2, 2, 2, 2, 2, 2, 2, 2, 2, 2, 2, 2, 2, 2, 2, 2, 2, 2, 2, 2, 2, 2, 2, 2, 2, 2, 2, 2, 2, 2, 2, 2, 2, 2, 2, 4, 2, 2, 2, 2, 2, 2, 2, 2, 2, 2, 2, 2, 2, 2, 4, 2, 2, 2, 2, 2, 2, 2, 2, 2, 2, 2, 2, 2, 2, 2, 2, 2, 2, 2, 2, 2, 2, 2, 2, 2, 2, 2, 2, 2, 2, 2, 2, 2, 2, 2, 2, 2, 2, 2, 2, 2, 2, 2, 2, 2, 2, 2, 2, 2, 2, 2, 2, 2, 2, 2, 2, 2, 2, 2, 2, 2, 2, 2, 2, 2, 2, 2, 2, 2, 2, 2, 2, 2, 2, 2, 2, 2, 2, 2, 2, 2, 2, 2, 2, 2, 2, 2, 2, 2, 2, 2, 2, 2, 2, 2, 2, 2, 2, 2, 2, 4, 4, 4, 4, 4, 4, 4, 4, 4, 4, 4, 4, 4, 4, 4, 4, 4, 4, 4, 4, 4, 4, 4, 4, 4, 4, 4, 4, 4, 4, 4, 4, 4, 4, 4, 4, 4, 4, 4, 4, 4, 4, 4, 4, 4, 4, 4, 4, 4, 4, 4, 4, 4, 4, 4, 4, 4, 4, 4, 4, 4, 4, 4, 4, 4, 4, 4, 4, 4, 4, 4, 4, 4, 4, 4, 4, 4, 4, 4, 4, 4, 4, 4, 4, 4, 4, 4, 4, 4, 4, 4, 4, 4, 4, 4, 4, 4, 4, 4, 4, 4, 4, 4, 4, 4, 4, 4, 4, 4, 4, 4, 4, 4, 4, 4, 4, 4, 4, 4, 4, 4, 4, 4, 4, 4, 4, 4, 4, 4, 4, 4, 4, 4, 2, 4, 4, 4, 4, 4, 4, 4, 4, 4, 4, 4, 4, 4, 4, 4, 4, 4, 4, 4, 4, 4, 4, 4, 4, 4, 4, 4, 4, 4, 4, 4, 4, 4, 4, 4, 4, 4, 4, 4, 4, 4, 4, 4, 4, 4, 4, 4, 4, 4, 4, 4, 4, 4, 4, 4, 4, 4, 4, 4, 4, 4, 4, 4, 4, 4, 4, 4, 4, 4, 4, 4, 4, 4, 4, 4, 4, 4, 4, 4, 4, 4, 4, 4, 4, 4, 4, 4, 4, 4, 4, 4, 4, 4, 4, 4, 4, 4, 4, 4, 4, 4, 4, 4, 4, 4, 4, 4, 4, 4, 4, 4, 4, 4, 4, 4, 4]\n",
      "99.4\n"
     ]
    }
   ],
   "source": [
    "predic5 = []\n",
    "predic11 = []\n",
    "predic21 = []\n",
    "predictions5 = []\n",
    "predictions11 = []\n",
    "predictions21 = []\n",
    "\n",
    "lngx = len(xt)\n",
    "lng = len(yt)\n",
    "\n",
    "for i in range(lngx):\n",
    "    ytt = xt[i].split(' ')\n",
    "    yttt = np.asarray(ytt)\n",
    "    testPoint = yttt[1:257].astype(int)\n",
    "    predic5.append(getKneighbours(xt, trainResults, testPoint, 5))\n",
    "\n",
    "print(predic5) \n",
    "print(getAccuracy(predic5, trainResults))"
   ]
  },
  {
   "cell_type": "code",
   "execution_count": 85,
   "metadata": {},
   "outputs": [
    {
     "name": "stdout",
     "output_type": "stream",
     "text": [
      "[2, 2, 2, 2, 2, 2, 2, 2, 2, 2, 2, 2, 2, 2, 2, 2, 2, 2, 2, 2, 2, 2, 2, 2, 2, 2, 2, 2, 2, 2, 2, 2, 2, 2, 2, 2, 2, 2, 2, 2, 2, 2, 2, 2, 2, 2, 2, 2, 2, 2, 2, 2, 2, 2, 2, 2, 2, 2, 2, 2, 2, 2, 2, 2, 2, 2, 2, 2, 2, 2, 2, 2, 2, 2, 2, 2, 2, 2, 2, 2, 2, 2, 2, 2, 2, 2, 2, 2, 2, 2, 2, 2, 2, 2, 2, 2, 2, 2, 2, 2, 2, 2, 4, 2, 2, 2, 2, 2, 2, 2, 2, 2, 2, 2, 2, 2, 2, 2, 2, 2, 2, 2, 2, 2, 2, 2, 2, 2, 2, 2, 2, 2, 2, 2, 4, 2, 2, 2, 2, 2, 2, 2, 2, 2, 2, 2, 2, 2, 2, 4, 2, 2, 2, 2, 2, 2, 2, 2, 2, 2, 2, 2, 2, 2, 2, 2, 2, 2, 2, 2, 2, 2, 2, 2, 2, 2, 2, 2, 2, 2, 2, 2, 2, 2, 2, 2, 2, 2, 2, 2, 2, 2, 2, 2, 2, 2, 2, 2, 2, 2, 2, 2, 2, 2, 2, 2, 2, 2, 2, 2, 2, 2, 2, 2, 2, 2, 2, 2, 2, 2, 2, 2, 2, 2, 2, 2, 2, 2, 2, 2, 2, 2, 2, 2, 2, 2, 2, 2, 2, 2, 2, 2, 2, 2, 2, 2, 2, 2, 2, 2, 4, 4, 4, 4, 4, 4, 4, 4, 4, 4, 4, 4, 4, 4, 4, 4, 4, 4, 4, 4, 4, 4, 4, 4, 4, 4, 4, 4, 4, 4, 4, 4, 4, 4, 4, 4, 4, 4, 4, 4, 4, 4, 4, 4, 4, 4, 4, 4, 4, 4, 4, 4, 4, 4, 4, 4, 4, 4, 4, 4, 4, 4, 4, 4, 4, 4, 4, 4, 4, 4, 4, 4, 4, 4, 4, 4, 4, 4, 4, 4, 4, 4, 4, 4, 4, 4, 4, 4, 4, 4, 4, 4, 4, 4, 4, 4, 4, 4, 4, 4, 4, 4, 4, 4, 4, 4, 4, 4, 4, 4, 4, 4, 4, 4, 4, 4, 4, 4, 4, 4, 4, 4, 4, 4, 4, 4, 4, 4, 4, 4, 4, 4, 4, 4, 4, 4, 4, 4, 4, 4, 4, 4, 4, 4, 4, 4, 4, 4, 4, 4, 4, 4, 4, 4, 4, 4, 4, 4, 4, 4, 4, 4, 4, 4, 4, 4, 4, 4, 4, 4, 4, 4, 4, 4, 4, 4, 4, 4, 4, 4, 4, 4, 4, 4, 4, 4, 4, 4, 4, 4, 4, 4, 4, 4, 4, 4, 4, 4, 4, 4, 4, 4, 4, 4, 4, 4, 4, 4, 4, 4, 4, 4, 4, 4, 4, 4, 4, 4, 4, 4, 4, 4, 4, 4, 4, 4, 4, 4, 4, 4, 4, 4, 4, 4, 4, 4, 4, 4, 4, 4, 4, 4, 4, 4, 4, 4, 4, 4, 4, 4]\n",
      "99.4\n"
     ]
    }
   ],
   "source": [
    "for i in range(lngx):\n",
    "    ytt = xt[i].split(' ')\n",
    "    yttt = np.asarray(ytt)\n",
    "    testPoint = yttt[1:257].astype(int)\n",
    "    predic11.append(getKneighbours(xt, trainResults, testPoint, 11))\n",
    "\n",
    "print(predic11) \n",
    "print(getAccuracy(predic11, trainResults))"
   ]
  },
  {
   "cell_type": "code",
   "execution_count": 87,
   "metadata": {},
   "outputs": [
    {
     "name": "stdout",
     "output_type": "stream",
     "text": [
      "[2, 2, 2, 2, 2, 2, 2, 2, 2, 2, 2, 2, 2, 2, 2, 2, 2, 2, 2, 2, 2, 2, 2, 2, 2, 2, 2, 2, 2, 2, 2, 2, 2, 2, 2, 2, 2, 2, 2, 2, 2, 2, 2, 2, 2, 2, 2, 2, 2, 2, 2, 2, 2, 2, 2, 2, 2, 2, 2, 2, 2, 2, 2, 2, 2, 2, 2, 2, 2, 2, 2, 2, 2, 2, 2, 2, 2, 2, 2, 2, 2, 2, 2, 2, 2, 2, 2, 2, 2, 2, 2, 2, 2, 2, 2, 2, 2, 2, 2, 2, 4, 2, 4, 2, 2, 2, 2, 2, 2, 2, 2, 2, 2, 2, 2, 2, 2, 2, 2, 2, 4, 2, 2, 2, 2, 2, 2, 2, 2, 2, 2, 2, 2, 2, 4, 2, 2, 2, 2, 2, 2, 2, 2, 2, 2, 2, 2, 2, 2, 4, 2, 2, 2, 2, 2, 2, 2, 2, 2, 2, 2, 2, 2, 2, 2, 2, 2, 2, 2, 2, 2, 2, 2, 2, 2, 2, 2, 2, 2, 2, 2, 2, 2, 2, 2, 2, 2, 2, 2, 2, 2, 2, 2, 2, 2, 2, 2, 2, 2, 2, 2, 2, 2, 2, 2, 2, 2, 2, 2, 2, 2, 2, 2, 2, 2, 2, 2, 2, 2, 2, 2, 2, 2, 2, 2, 2, 2, 2, 2, 2, 2, 2, 2, 2, 2, 2, 2, 2, 2, 2, 2, 2, 2, 2, 2, 2, 2, 2, 2, 2, 4, 4, 4, 4, 4, 4, 4, 4, 4, 4, 4, 4, 4, 4, 4, 4, 4, 4, 4, 4, 4, 4, 4, 4, 4, 4, 4, 4, 4, 4, 4, 4, 4, 4, 4, 4, 4, 4, 4, 4, 4, 4, 4, 4, 4, 4, 4, 4, 4, 4, 4, 4, 4, 4, 4, 4, 4, 4, 4, 4, 4, 4, 4, 4, 4, 4, 4, 4, 4, 4, 4, 4, 4, 4, 4, 4, 4, 4, 4, 4, 4, 4, 4, 4, 4, 4, 4, 4, 4, 4, 4, 4, 4, 4, 4, 4, 4, 4, 4, 4, 4, 4, 4, 4, 4, 4, 4, 4, 4, 4, 4, 4, 4, 4, 4, 4, 4, 4, 4, 4, 4, 4, 4, 4, 4, 4, 4, 4, 4, 4, 4, 4, 4, 4, 4, 4, 4, 4, 4, 4, 4, 4, 4, 4, 4, 4, 4, 4, 4, 4, 4, 4, 4, 4, 4, 4, 4, 4, 4, 4, 4, 4, 4, 4, 4, 4, 4, 4, 4, 4, 4, 4, 4, 4, 4, 4, 4, 4, 4, 4, 4, 4, 4, 4, 4, 4, 4, 4, 4, 4, 4, 4, 4, 4, 4, 4, 4, 4, 4, 4, 4, 4, 4, 4, 4, 4, 4, 4, 4, 4, 4, 4, 4, 4, 4, 4, 4, 4, 4, 4, 4, 4, 4, 4, 4, 4, 4, 4, 4, 4, 4, 4, 4, 4, 4, 4, 4, 4, 4, 4, 4, 4, 4, 4, 4, 4, 4, 4, 4, 4]\n",
      "99.0\n"
     ]
    }
   ],
   "source": [
    "for i in range(lngx):\n",
    "    ytt = xt[i].split(' ')\n",
    "    yttt = np.asarray(ytt)\n",
    "    testPoint = yttt[1:257].astype(int)\n",
    "    predic21.append(getKneighbours(xt, trainResults, testPoint, 21))\n",
    "\n",
    "print(predic21) \n",
    "print(getAccuracy(predic21, trainResults))"
   ]
  },
  {
   "cell_type": "code",
   "execution_count": 86,
   "metadata": {},
   "outputs": [
    {
     "name": "stdout",
     "output_type": "stream",
     "text": [
      "[2, 2, 2, 2, 2, 2, 2, 2, 2, 2, 2, 2, 2, 2, 2, 2, 2, 2, 2, 2, 2, 2, 2, 2, 2, 2, 2, 2, 2, 2, 2, 2, 2, 2, 2, 2, 2, 2, 2, 2, 2, 2, 2, 2, 2, 2, 2, 2, 2, 2, 4, 4, 4, 4, 4, 4, 4, 4, 4, 4, 4, 4, 4, 4, 4, 4, 4, 4, 4, 4, 4, 4, 4, 4, 4, 4, 4, 4, 4, 4, 4, 4, 4, 4, 4, 4, 4, 4, 4, 4, 4, 4, 4, 4, 4, 4, 4, 4, 4, 4]\n",
      "100.0\n"
     ]
    }
   ],
   "source": [
    "\n",
    "\n",
    "for i in range(lng):\n",
    "    ytt = yt[i].split(' ')\n",
    "    yttt = np.asarray(ytt)\n",
    "    testPoint = yttt[1:257].astype(int)\n",
    "    predictions5.append(getKneighbours(xt, trainResults, testPoint, 5))\n",
    "\n",
    "print(predictions5)\n",
    "print(getAccuracy(predictions5, testResults))"
   ]
  },
  {
   "cell_type": "code",
   "execution_count": 88,
   "metadata": {},
   "outputs": [
    {
     "name": "stdout",
     "output_type": "stream",
     "text": [
      "[2, 2, 2, 2, 2, 2, 2, 2, 2, 2, 2, 2, 2, 2, 2, 2, 2, 2, 2, 2, 2, 2, 2, 2, 2, 2, 2, 2, 2, 2, 2, 2, 2, 2, 2, 2, 2, 2, 2, 2, 2, 2, 2, 2, 2, 2, 2, 2, 2, 2, 4, 4, 4, 4, 4, 4, 4, 4, 4, 4, 4, 4, 4, 4, 4, 4, 4, 4, 4, 4, 4, 4, 4, 4, 4, 4, 4, 4, 4, 4, 4, 4, 4, 4, 4, 4, 4, 4, 4, 4, 4, 4, 4, 4, 4, 4, 4, 4, 4, 4]\n",
      "100.0\n"
     ]
    }
   ],
   "source": [
    "for i in range(lng):\n",
    "    ytt = yt[i].split(' ')\n",
    "    yttt = np.asarray(ytt)\n",
    "    testPoint = yttt[1:257].astype(int)\n",
    "    predictions11.append(getKneighbours(xt, trainResults, testPoint, 11))\n",
    "\n",
    "print(predictions11)\n",
    "print(getAccuracy(predictions11, testResults))"
   ]
  },
  {
   "cell_type": "code",
   "execution_count": 89,
   "metadata": {},
   "outputs": [
    {
     "name": "stdout",
     "output_type": "stream",
     "text": [
      "[2, 2, 2, 2, 2, 2, 2, 2, 2, 2, 2, 2, 2, 2, 2, 2, 2, 2, 2, 2, 2, 2, 2, 2, 2, 2, 2, 2, 2, 2, 2, 2, 2, 2, 2, 2, 2, 2, 2, 2, 2, 2, 2, 2, 2, 2, 2, 2, 2, 2, 4, 4, 4, 4, 4, 4, 4, 4, 4, 4, 4, 4, 4, 4, 4, 4, 4, 4, 4, 4, 4, 4, 4, 4, 4, 4, 4, 4, 4, 4, 4, 4, 4, 4, 4, 4, 4, 4, 4, 4, 4, 4, 4, 4, 4, 4, 4, 4, 4, 4]\n",
      "100.0\n"
     ]
    }
   ],
   "source": [
    "for i in range(lng):\n",
    "    ytt = yt[i].split(' ')\n",
    "    yttt = np.asarray(ytt)\n",
    "    testPoint = yttt[1:257].astype(int)\n",
    "    predictions21.append(getKneighbours(xt, trainResults, testPoint, 21))\n",
    "\n",
    "print(predictions21)\n",
    "print(getAccuracy(predictions21, testResults))"
   ]
  }
 ],
 "metadata": {
  "kernelspec": {
   "display_name": "Python 3",
   "language": "python",
   "name": "python3"
  },
  "language_info": {
   "codemirror_mode": {
    "name": "ipython",
    "version": 3
   },
   "file_extension": ".py",
   "mimetype": "text/x-python",
   "name": "python",
   "nbconvert_exporter": "python",
   "pygments_lexer": "ipython3",
   "version": "3.7.0"
  }
 },
 "nbformat": 4,
 "nbformat_minor": 2
}
