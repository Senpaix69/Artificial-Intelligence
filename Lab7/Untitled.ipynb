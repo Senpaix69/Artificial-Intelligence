{
 "cells": [
  {
   "cell_type": "code",
   "execution_count": 36,
   "id": "beac62bb",
   "metadata": {},
   "outputs": [
    {
     "name": "stdout",
     "output_type": "stream",
     "text": [
      "0\n",
      "['A', 'G']\n",
      "(4, [0, (5, 'S'), 'A'])\n",
      "(10, [0, (5, 'S'), 'G'])\n",
      "4\n",
      "['B', 'C']\n",
      "(10, [4, [0, (5, 'S'), 'A'], 'B'])\n",
      "(7, [4, [0, (5, 'S'), 'A'], 'C'])\n",
      "7\n",
      "['D', 'G']\n",
      "(16, [7, [4, [0, (5, 'S'), 'A'], 'C'], 'D'])\n",
      "(11, [7, [4, [0, (5, 'S'), 'A'], 'C'], 'G'])\n",
      "10\n"
     ]
    }
   ],
   "source": [
    "import queue as q\n",
    "Graph = {\n",
    "    'S': {'A':(1, 3),'G':(10, 0)},\n",
    "    'A': {'B':(2, 4),'C':(1, 2)},\n",
    "    'B': {'D':(5, 6)},\n",
    "    'C': {'D':(3, 6),'G':(4, 0)},\n",
    "    'D': {'G':(6, 0)},\n",
    "    'G': {}\n",
    "}\n",
    "startingHeuristic = 5\n",
    "\n",
    "\n",
    "def A_STR(MyGraph1, end, start):\n",
    "    QU = q.PriorityQueue()\n",
    "    value = startingHeuristic\n",
    "    w = (0, (value, start))\n",
    "    path = []\n",
    "    QU.put(w)\n",
    "    while QU:\n",
    "        vertex = QU.get(0)\n",
    "        print(vertex[0])\n",
    "        n = vertex[-1][-1]\n",
    "        #print(n)\n",
    "        if n not in path:\n",
    "            path.append(n)\n",
    "            if n == end:\n",
    "                s = str(vertex)\n",
    "                return path\n",
    "                #return[s, vertex[0]]\n",
    "            edges = list(MyGraph1[n].keys())\n",
    "            print(edges)\n",
    "            for i in range(len(edges)):\n",
    "                add = list(vertex)\n",
    "                add.append(edges[i])\n",
    "                cost = vertex[0] + MyGraph1[n][edges[i]][0] + MyGraph1[n][edges[i]][1]\n",
    "                t = (cost, add)\n",
    "                QU.put(t)\n",
    "                print(t)\n",
    "\n",
    "\n",
    "\n",
    "cost = 0\n",
    "path = []\n",
    "\n",
    "#for i in range(0, len(arr)-1):\n",
    "abc = A_STR(Graph, 'G', 'S')\n",
    " #   print(\"Path from \", arr[i], \"to \", arr[i+1],  abc[0])\n",
    " #   print(\"cost: \", abc[1])\n",
    " #   path = path + list(abc[0])\n",
    " #   cost = cost + int(abc[1])"
   ]
  },
  {
   "cell_type": "code",
   "execution_count": 37,
   "id": "76deadbb",
   "metadata": {},
   "outputs": [
    {
     "data": {
      "text/plain": [
       "['S', 'A', 'C', 'G']"
      ]
     },
     "execution_count": 37,
     "metadata": {},
     "output_type": "execute_result"
    }
   ],
   "source": [
    "abc"
   ]
  }
 ],
 "metadata": {
  "kernelspec": {
   "display_name": "Python 3 (ipykernel)",
   "language": "python",
   "name": "python3"
  },
  "language_info": {
   "codemirror_mode": {
    "name": "ipython",
    "version": 3
   },
   "file_extension": ".py",
   "mimetype": "text/x-python",
   "name": "python",
   "nbconvert_exporter": "python",
   "pygments_lexer": "ipython3",
   "version": "3.9.12"
  }
 },
 "nbformat": 4,
 "nbformat_minor": 5
}
